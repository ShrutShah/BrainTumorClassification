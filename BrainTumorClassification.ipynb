{
  "metadata": {
    "kernelspec": {
      "display_name": "Python 3",
      "name": "python3"
    },
    "language_info": {
      "name": "python",
      "version": "3.7.12",
      "mimetype": "text/x-python",
      "codemirror_mode": {
        "name": "ipython",
        "version": 3
      },
      "pygments_lexer": "ipython3",
      "nbconvert_exporter": "python",
      "file_extension": ".py"
    },
    "colab": {
      "provenance": [],
      "gpuType": "T4"
    },
    "accelerator": "GPU"
  },
  "nbformat_minor": 0,
  "nbformat": 4,
  "cells": [
    {
      "cell_type": "code",
      "source": [
        "from google.colab import drive\n",
        "drive.mount('/content/drive')"
      ],
      "metadata": {
        "colab": {
          "base_uri": "https://localhost:8080/"
        },
        "id": "VCCCf5CBYNeE",
        "outputId": "9ed52269-ff80-45ad-ee6a-dc72804ab55f"
      },
      "execution_count": 1,
      "outputs": [
        {
          "output_type": "stream",
          "name": "stdout",
          "text": [
            "Mounted at /content/drive\n"
          ]
        }
      ]
    },
    {
      "cell_type": "code",
      "source": [
        "import numpy as np\n",
        "import pandas as pd"
      ],
      "metadata": {
        "_uuid": "8f2839f25d086af736a60e9eeb907d3b93b6e0e5",
        "_cell_guid": "b1076dfc-b9ad-4769-8c92-a6c4dae69d19",
        "execution": {
          "iopub.status.busy": "2022-11-19T07:12:18.606670Z",
          "iopub.execute_input": "2022-11-19T07:12:18.608633Z",
          "iopub.status.idle": "2022-11-19T07:12:19.304019Z",
          "shell.execute_reply.started": "2022-11-19T07:12:18.608504Z",
          "shell.execute_reply": "2022-11-19T07:12:19.302985Z"
        },
        "trusted": true,
        "id": "IuBafRkdUtyt"
      },
      "execution_count": 2,
      "outputs": []
    },
    {
      "cell_type": "code",
      "source": [
        "import keras\n",
        "from keras.models import Sequential\n",
        "from keras.layers import Conv2D,Flatten,Dense,MaxPooling2D,Dropout\n",
        "from sklearn.metrics import accuracy_score"
      ],
      "metadata": {
        "execution": {
          "iopub.status.busy": "2022-11-19T07:15:26.338495Z",
          "iopub.execute_input": "2022-11-19T07:15:26.338877Z",
          "iopub.status.idle": "2022-11-19T07:15:26.404272Z",
          "shell.execute_reply.started": "2022-11-19T07:15:26.338844Z",
          "shell.execute_reply": "2022-11-19T07:15:26.402997Z"
        },
        "trusted": true,
        "id": "nq8c02RRUtyu"
      },
      "execution_count": 3,
      "outputs": []
    },
    {
      "cell_type": "code",
      "source": [
        "import ipywidgets as widgets\n",
        "import io\n",
        "from PIL import Image\n",
        "import tqdm\n",
        "from sklearn.model_selection import train_test_split\n",
        "import cv2\n",
        "from sklearn.utils import shuffle\n",
        "import tensorflow as tf"
      ],
      "metadata": {
        "execution": {
          "iopub.status.busy": "2022-11-19T07:19:17.638858Z",
          "iopub.execute_input": "2022-11-19T07:19:17.639297Z",
          "iopub.status.idle": "2022-11-19T07:19:17.940405Z",
          "shell.execute_reply.started": "2022-11-19T07:19:17.639261Z",
          "shell.execute_reply": "2022-11-19T07:19:17.938985Z"
        },
        "trusted": true,
        "id": "Iq8zk3icUtyu"
      },
      "execution_count": 4,
      "outputs": []
    },
    {
      "cell_type": "code",
      "source": [
        "import os"
      ],
      "metadata": {
        "id": "aNNPPLM8W-hs"
      },
      "execution_count": 5,
      "outputs": []
    },
    {
      "cell_type": "code",
      "source": [
        "X_train = []\n",
        "Y_train = []\n",
        "image_size = 150\n",
        "labels = ['glioma_tumor','meningioma_tumor','no_tumor','pituitary_tumor']\n",
        "for i in labels:\n",
        "    folderPath = os.path.join('/content/drive/MyDrive/braint/Training',i)\n",
        "    for j in os.listdir(folderPath):\n",
        "        img = cv2.imread(os.path.join(folderPath,j))\n",
        "        img = cv2.resize(img,(image_size,image_size))\n",
        "        X_train.append(img)\n",
        "        Y_train.append(i)\n",
        "\n",
        "for i in labels:\n",
        "    folderPath = os.path.join('/content/drive/MyDrive/braint/Testing',i)\n",
        "    for j in os.listdir(folderPath):\n",
        "        img = cv2.imread(os.path.join(folderPath,j))\n",
        "        img = cv2.resize(img,(image_size,image_size))\n",
        "        X_train.append(img)\n",
        "        Y_train.append(i)\n",
        "\n",
        "X_train = np.array(X_train)\n",
        "Y_train = np.array(Y_train)"
      ],
      "metadata": {
        "execution": {
          "iopub.status.busy": "2022-11-19T07:30:28.973792Z",
          "iopub.execute_input": "2022-11-19T07:30:28.974194Z",
          "iopub.status.idle": "2022-11-19T07:30:55.367809Z",
          "shell.execute_reply.started": "2022-11-19T07:30:28.974144Z",
          "shell.execute_reply": "2022-11-19T07:30:55.366547Z"
        },
        "trusted": true,
        "id": "m1HHx1IOUtyu"
      },
      "execution_count": 6,
      "outputs": []
    },
    {
      "cell_type": "code",
      "source": [
        "X_train,Y_train = shuffle(X_train,Y_train,random_state=101)\n",
        "X_train.shape"
      ],
      "metadata": {
        "execution": {
          "iopub.status.busy": "2022-11-19T07:32:34.732643Z",
          "iopub.execute_input": "2022-11-19T07:32:34.733259Z",
          "iopub.status.idle": "2022-11-19T07:32:34.910597Z",
          "shell.execute_reply.started": "2022-11-19T07:32:34.733212Z",
          "shell.execute_reply": "2022-11-19T07:32:34.904661Z"
        },
        "trusted": true,
        "colab": {
          "base_uri": "https://localhost:8080/"
        },
        "id": "OVd7Sm7uUtyu",
        "outputId": "dfb5146a-54c3-45fc-ab91-3ce776837812"
      },
      "execution_count": 7,
      "outputs": [
        {
          "output_type": "execute_result",
          "data": {
            "text/plain": [
              "(3274, 150, 150, 3)"
            ]
          },
          "metadata": {},
          "execution_count": 7
        }
      ]
    },
    {
      "cell_type": "code",
      "source": [
        "X_train,X_test,y_train,y_test = train_test_split(X_train,Y_train,test_size=0.1,random_state=101)"
      ],
      "metadata": {
        "execution": {
          "iopub.status.busy": "2022-11-19T07:35:14.066783Z",
          "iopub.execute_input": "2022-11-19T07:35:14.067228Z",
          "iopub.status.idle": "2022-11-19T07:35:14.123077Z",
          "shell.execute_reply.started": "2022-11-19T07:35:14.067168Z",
          "shell.execute_reply": "2022-11-19T07:35:14.121936Z"
        },
        "trusted": true,
        "id": "VKt-6_T4Utyu"
      },
      "execution_count": 8,
      "outputs": []
    },
    {
      "cell_type": "code",
      "source": [
        "y_train_new = []\n",
        "for i in y_train:\n",
        "    y_train_new.append(labels.index(i))\n",
        "y_train=y_train_new\n",
        "y_train = tf.keras.utils.to_categorical(y_train)\n",
        "\n",
        "y_test_new = []\n",
        "for i in y_test:\n",
        "    y_test_new.append(labels.index(i))\n",
        "y_test=y_test_new\n",
        "y_test = tf.keras.utils.to_categorical(y_test)"
      ],
      "metadata": {
        "execution": {
          "iopub.status.busy": "2022-11-19T07:40:02.908265Z",
          "iopub.execute_input": "2022-11-19T07:40:02.908877Z",
          "iopub.status.idle": "2022-11-19T07:40:02.918091Z",
          "shell.execute_reply.started": "2022-11-19T07:40:02.908839Z",
          "shell.execute_reply": "2022-11-19T07:40:02.916950Z"
        },
        "trusted": true,
        "id": "PFSXmjxFUtyu"
      },
      "execution_count": 9,
      "outputs": []
    },
    {
      "cell_type": "markdown",
      "source": [
        "Convolutional Neural Network inspired by VGG 16"
      ],
      "metadata": {
        "id": "C1THi8ptUtyu"
      }
    },
    {
      "cell_type": "code",
      "source": [
        "model = Sequential()\n",
        "model.add(Conv2D(32,(3,3),activation = 'relu',input_shape=(150,150,3)))\n",
        "model.add(Conv2D(64,(3,3),activation='relu'))\n",
        "model.add(MaxPooling2D(2,2))\n",
        "model.add(Dropout(0.3))\n",
        "model.add(Conv2D(64,(3,3),activation='relu'))\n",
        "model.add(Conv2D(64,(3,3),activation='relu'))\n",
        "model.add(Dropout(0.3))\n",
        "model.add(MaxPooling2D(2,2))\n",
        "model.add(Dropout(0.3))\n",
        "model.add(Conv2D(128,(3,3),activation='relu'))\n",
        "model.add(Conv2D(128,(3,3),activation='relu'))\n",
        "model.add(Conv2D(128,(3,3),activation='relu'))\n",
        "model.add(MaxPooling2D(2,2))\n",
        "model.add(Dropout(0.3))\n",
        "model.add(Conv2D(128,(3,3),activation='relu'))\n",
        "model.add(Conv2D(256,(3,3),activation='relu'))\n",
        "model.add(MaxPooling2D(2,2))\n",
        "model.add(Dropout(0.3))\n",
        "model.add(Flatten())\n",
        "model.add(Dense(512,activation = 'relu'))\n",
        "model.add(Dense(512,activation = 'relu'))\n",
        "model.add(Dropout(0.3))\n",
        "model.add(Dense(4,activation='softmax'))"
      ],
      "metadata": {
        "execution": {
          "iopub.status.busy": "2022-11-19T07:49:31.587909Z",
          "iopub.execute_input": "2022-11-19T07:49:31.588314Z",
          "iopub.status.idle": "2022-11-19T07:49:34.786974Z",
          "shell.execute_reply.started": "2022-11-19T07:49:31.588280Z",
          "shell.execute_reply": "2022-11-19T07:49:34.785930Z"
        },
        "trusted": true,
        "id": "axtHvcjTUtyv"
      },
      "execution_count": 10,
      "outputs": []
    },
    {
      "cell_type": "code",
      "source": [
        "model.summary()"
      ],
      "metadata": {
        "execution": {
          "iopub.status.busy": "2022-11-19T07:49:50.281096Z",
          "iopub.execute_input": "2022-11-19T07:49:50.282210Z",
          "iopub.status.idle": "2022-11-19T07:49:50.291252Z",
          "shell.execute_reply.started": "2022-11-19T07:49:50.282133Z",
          "shell.execute_reply": "2022-11-19T07:49:50.290239Z"
        },
        "trusted": true,
        "colab": {
          "base_uri": "https://localhost:8080/"
        },
        "id": "MNPp-nnjUtyv",
        "outputId": "25ff810c-6ee9-4c63-a305-d9946a8e759a"
      },
      "execution_count": 11,
      "outputs": [
        {
          "output_type": "stream",
          "name": "stdout",
          "text": [
            "Model: \"sequential\"\n",
            "_________________________________________________________________\n",
            " Layer (type)                Output Shape              Param #   \n",
            "=================================================================\n",
            " conv2d (Conv2D)             (None, 148, 148, 32)      896       \n",
            "                                                                 \n",
            " conv2d_1 (Conv2D)           (None, 146, 146, 64)      18496     \n",
            "                                                                 \n",
            " max_pooling2d (MaxPooling2  (None, 73, 73, 64)        0         \n",
            " D)                                                              \n",
            "                                                                 \n",
            " dropout (Dropout)           (None, 73, 73, 64)        0         \n",
            "                                                                 \n",
            " conv2d_2 (Conv2D)           (None, 71, 71, 64)        36928     \n",
            "                                                                 \n",
            " conv2d_3 (Conv2D)           (None, 69, 69, 64)        36928     \n",
            "                                                                 \n",
            " dropout_1 (Dropout)         (None, 69, 69, 64)        0         \n",
            "                                                                 \n",
            " max_pooling2d_1 (MaxPoolin  (None, 34, 34, 64)        0         \n",
            " g2D)                                                            \n",
            "                                                                 \n",
            " dropout_2 (Dropout)         (None, 34, 34, 64)        0         \n",
            "                                                                 \n",
            " conv2d_4 (Conv2D)           (None, 32, 32, 128)       73856     \n",
            "                                                                 \n",
            " conv2d_5 (Conv2D)           (None, 30, 30, 128)       147584    \n",
            "                                                                 \n",
            " conv2d_6 (Conv2D)           (None, 28, 28, 128)       147584    \n",
            "                                                                 \n",
            " max_pooling2d_2 (MaxPoolin  (None, 14, 14, 128)       0         \n",
            " g2D)                                                            \n",
            "                                                                 \n",
            " dropout_3 (Dropout)         (None, 14, 14, 128)       0         \n",
            "                                                                 \n",
            " conv2d_7 (Conv2D)           (None, 12, 12, 128)       147584    \n",
            "                                                                 \n",
            " conv2d_8 (Conv2D)           (None, 10, 10, 256)       295168    \n",
            "                                                                 \n",
            " max_pooling2d_3 (MaxPoolin  (None, 5, 5, 256)         0         \n",
            " g2D)                                                            \n",
            "                                                                 \n",
            " dropout_4 (Dropout)         (None, 5, 5, 256)         0         \n",
            "                                                                 \n",
            " flatten (Flatten)           (None, 6400)              0         \n",
            "                                                                 \n",
            " dense (Dense)               (None, 512)               3277312   \n",
            "                                                                 \n",
            " dense_1 (Dense)             (None, 512)               262656    \n",
            "                                                                 \n",
            " dropout_5 (Dropout)         (None, 512)               0         \n",
            "                                                                 \n",
            " dense_2 (Dense)             (None, 4)                 2052      \n",
            "                                                                 \n",
            "=================================================================\n",
            "Total params: 4447044 (16.96 MB)\n",
            "Trainable params: 4447044 (16.96 MB)\n",
            "Non-trainable params: 0 (0.00 Byte)\n",
            "_________________________________________________________________\n"
          ]
        }
      ]
    },
    {
      "cell_type": "code",
      "source": [
        "model.compile(loss='categorical_crossentropy',optimizer='Adam',metrics=['accuracy'])"
      ],
      "metadata": {
        "execution": {
          "iopub.status.busy": "2022-11-19T07:51:48.274809Z",
          "iopub.execute_input": "2022-11-19T07:51:48.275238Z",
          "iopub.status.idle": "2022-11-19T07:51:48.289950Z",
          "shell.execute_reply.started": "2022-11-19T07:51:48.275150Z",
          "shell.execute_reply": "2022-11-19T07:51:48.288874Z"
        },
        "trusted": true,
        "id": "iQUDJjQ7Utyv"
      },
      "execution_count": 12,
      "outputs": []
    },
    {
      "cell_type": "code",
      "source": [
        "history = model.fit(X_train,y_train,epochs=20,validation_split=0.1)"
      ],
      "metadata": {
        "execution": {
          "iopub.status.busy": "2022-11-19T07:53:06.572894Z",
          "iopub.execute_input": "2022-11-19T07:53:06.573289Z",
          "iopub.status.idle": "2022-11-19T07:54:29.855720Z",
          "shell.execute_reply.started": "2022-11-19T07:53:06.573254Z",
          "shell.execute_reply": "2022-11-19T07:54:29.854598Z"
        },
        "trusted": true,
        "colab": {
          "base_uri": "https://localhost:8080/"
        },
        "id": "z82bBG0sUtyv",
        "outputId": "24b97ec1-2aeb-43d9-af3e-20bfdedcf0a7"
      },
      "execution_count": null,
      "outputs": [
        {
          "output_type": "stream",
          "name": "stdout",
          "text": [
            "Epoch 1/20\n",
            "83/83 [==============================] - 28s 156ms/step - loss: 1.9062 - accuracy: 0.2980 - val_loss: 1.3592 - val_accuracy: 0.2847\n",
            "Epoch 2/20\n",
            "83/83 [==============================] - 8s 92ms/step - loss: 1.3046 - accuracy: 0.3685 - val_loss: 1.0907 - val_accuracy: 0.5322\n",
            "Epoch 3/20\n",
            "83/83 [==============================] - 8s 93ms/step - loss: 1.0575 - accuracy: 0.5477 - val_loss: 1.0102 - val_accuracy: 0.5458\n",
            "Epoch 4/20\n",
            "83/83 [==============================] - 8s 93ms/step - loss: 0.9076 - accuracy: 0.6077 - val_loss: 0.9734 - val_accuracy: 0.5458\n",
            "Epoch 5/20\n",
            "83/83 [==============================] - 8s 95ms/step - loss: 0.7799 - accuracy: 0.6714 - val_loss: 0.8337 - val_accuracy: 0.6102\n",
            "Epoch 6/20\n",
            "83/83 [==============================] - 8s 95ms/step - loss: 0.7118 - accuracy: 0.6884 - val_loss: 0.7777 - val_accuracy: 0.6475\n",
            "Epoch 7/20\n",
            "83/83 [==============================] - 8s 93ms/step - loss: 0.6379 - accuracy: 0.7329 - val_loss: 0.6749 - val_accuracy: 0.7119\n",
            "Epoch 8/20\n",
            "11/83 [==>...........................] - ETA: 6s - loss: 0.5031 - accuracy: 0.8097"
          ]
        }
      ]
    },
    {
      "cell_type": "code",
      "source": [
        "import matplotlib.pyplot as plt\n",
        "import seaborn as sns"
      ],
      "metadata": {
        "execution": {
          "iopub.status.busy": "2022-11-19T07:56:38.337268Z",
          "iopub.execute_input": "2022-11-19T07:56:38.337826Z",
          "iopub.status.idle": "2022-11-19T07:56:38.414947Z",
          "shell.execute_reply.started": "2022-11-19T07:56:38.337783Z",
          "shell.execute_reply": "2022-11-19T07:56:38.413785Z"
        },
        "trusted": true,
        "id": "zQQ42fY6Utyv"
      },
      "execution_count": null,
      "outputs": []
    },
    {
      "cell_type": "code",
      "source": [
        "model.save('braintumor.h5')\n",
        "\n",
        "acc = history.history['accuracy']\n",
        "val_acc = history.history['val_accuracy']\n",
        "epochs = range(len(acc))\n",
        "fig = plt.figure(figsize=(14,7))\n",
        "plt.plot(epochs,acc,'r',label=\"Training Accuracy\")\n",
        "plt.plot(epochs,val_acc,'b',label=\"Validation Accuracy\")\n",
        "plt.legend(loc='upper left')\n",
        "plt.show()"
      ],
      "metadata": {
        "execution": {
          "iopub.status.busy": "2022-11-19T07:59:08.340664Z",
          "iopub.execute_input": "2022-11-19T07:59:08.341048Z",
          "iopub.status.idle": "2022-11-19T07:59:08.586066Z",
          "shell.execute_reply.started": "2022-11-19T07:59:08.341014Z",
          "shell.execute_reply": "2022-11-19T07:59:08.585137Z"
        },
        "trusted": true,
        "id": "jjDmufpZUtyv"
      },
      "execution_count": null,
      "outputs": []
    },
    {
      "cell_type": "code",
      "source": [
        "loss = history.history['loss']\n",
        "val_loss = history.history['val_loss']\n",
        "epochs = range(len(loss))\n",
        "fig = plt.figure(figsize=(14,7))\n",
        "plt.plot(epochs,loss,'r',label=\"Training loss\")\n",
        "plt.plot(epochs,val_loss,'b',label=\"Validation loss\")\n",
        "plt.legend(loc='upper left')\n",
        "plt.show()"
      ],
      "metadata": {
        "execution": {
          "iopub.status.busy": "2022-11-19T08:00:16.058966Z",
          "iopub.execute_input": "2022-11-19T08:00:16.059362Z",
          "iopub.status.idle": "2022-11-19T08:00:16.289095Z",
          "shell.execute_reply.started": "2022-11-19T08:00:16.059328Z",
          "shell.execute_reply": "2022-11-19T08:00:16.288046Z"
        },
        "trusted": true,
        "id": "k7hm4DKtUtyv"
      },
      "execution_count": null,
      "outputs": []
    },
    {
      "cell_type": "markdown",
      "source": [
        "Prediction"
      ],
      "metadata": {
        "id": "lLnHjVA-Utyw"
      }
    },
    {
      "cell_type": "code",
      "source": [
        "img = cv2.imread('/content/drive/MyDrive/braint/Training/pituitary_tumor/p (107).jpg')\n",
        "img = cv2.resize(img,(150,150))\n",
        "img_array = np.array(img)\n",
        "img_array.shape"
      ],
      "metadata": {
        "execution": {
          "iopub.status.busy": "2022-11-19T08:02:27.811000Z",
          "iopub.execute_input": "2022-11-19T08:02:27.811444Z",
          "iopub.status.idle": "2022-11-19T08:02:27.836705Z",
          "shell.execute_reply.started": "2022-11-19T08:02:27.811404Z",
          "shell.execute_reply": "2022-11-19T08:02:27.835457Z"
        },
        "trusted": true,
        "id": "37HUTS-MUtyw"
      },
      "execution_count": null,
      "outputs": []
    },
    {
      "cell_type": "code",
      "source": [
        "img_array = img_array.reshape(1,150,150,3)\n",
        "img_array.shape"
      ],
      "metadata": {
        "execution": {
          "iopub.status.busy": "2022-11-19T08:03:03.760314Z",
          "iopub.execute_input": "2022-11-19T08:03:03.761043Z",
          "iopub.status.idle": "2022-11-19T08:03:03.767644Z",
          "shell.execute_reply.started": "2022-11-19T08:03:03.761003Z",
          "shell.execute_reply": "2022-11-19T08:03:03.766627Z"
        },
        "trusted": true,
        "id": "jFZd-J8gUtyw"
      },
      "execution_count": null,
      "outputs": []
    },
    {
      "cell_type": "code",
      "source": [
        "from tensorflow.keras.preprocessing import image\n",
        "img = image.load_img('/content/drive/MyDrive/braint/Training/pituitary_tumor/p (107).jpg')\n",
        "plt.imshow(img,interpolation='nearest')\n",
        "plt.show()"
      ],
      "metadata": {
        "execution": {
          "iopub.status.busy": "2022-11-19T08:04:17.672532Z",
          "iopub.execute_input": "2022-11-19T08:04:17.672961Z",
          "iopub.status.idle": "2022-11-19T08:04:17.900139Z",
          "shell.execute_reply.started": "2022-11-19T08:04:17.672925Z",
          "shell.execute_reply": "2022-11-19T08:04:17.899171Z"
        },
        "trusted": true,
        "id": "HH894-4AUtyw"
      },
      "execution_count": null,
      "outputs": []
    },
    {
      "cell_type": "code",
      "source": [
        "a=model.predict(img_array)\n",
        "indices = a.argmax()\n",
        "indices"
      ],
      "metadata": {
        "execution": {
          "iopub.status.busy": "2022-11-19T08:05:21.269023Z",
          "iopub.execute_input": "2022-11-19T08:05:21.269738Z",
          "iopub.status.idle": "2022-11-19T08:05:21.520121Z",
          "shell.execute_reply.started": "2022-11-19T08:05:21.269701Z",
          "shell.execute_reply": "2022-11-19T08:05:21.519186Z"
        },
        "trusted": true,
        "id": "uKFPo3XNUtyw"
      },
      "execution_count": null,
      "outputs": []
    }
  ]
}